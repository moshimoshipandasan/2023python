{
  "nbformat": 4,
  "nbformat_minor": 0,
  "metadata": {
    "colab": {
      "provenance": [],
      "include_colab_link": true
    },
    "kernelspec": {
      "name": "python3",
      "display_name": "Python 3"
    },
    "language_info": {
      "name": "python"
    }
  },
  "cells": [
    {
      "cell_type": "markdown",
      "metadata": {
        "id": "view-in-github",
        "colab_type": "text"
      },
      "source": [
        "<a href=\"https://colab.research.google.com/github/moshimoshipandasan/2023python/blob/main/%E5%88%9D%E7%B4%9A01_print%E9%96%A2%E6%95%B0.ipynb\" target=\"_parent\"><img src=\"https://colab.research.google.com/assets/colab-badge.svg\" alt=\"Open In Colab\"/></a>"
      ]
    },
    {
      "cell_type": "markdown",
      "source": [
        "# 初級編　第1講　print関数"
      ],
      "metadata": {
        "id": "ow_dE8pnLQA1"
      }
    },
    {
      "cell_type": "markdown",
      "source": [
        "# 要点整理"
      ],
      "metadata": {
        "id": "QFluV-JrLRa0"
      }
    },
    {
      "cell_type": "markdown",
      "source": [
        "## print関数\n",
        "　print関数は，( )の中に指定した値を表示する。  \n",
        "' 'で囲まれた文字列，数値，変数の値などを表示することができる。"
      ],
      "metadata": {
        "id": "XCKFDE7Hh0rr"
      }
    },
    {
      "cell_type": "code",
      "source": [
        "# 文字列型\n",
        "print('shibuya')\n",
        "\n",
        "# 整数型\n",
        "print(109)\n",
        "\n",
        "# 変数に代入して出力\n",
        "chimei = 'shibuya'\n",
        "print(chimei)"
      ],
      "metadata": {
        "id": "iQO7GB8BzuaE",
        "colab": {
          "base_uri": "https://localhost:8080/"
        },
        "outputId": "c2101aef-eb18-4c0c-a57b-a838ea00b1e3"
      },
      "execution_count": null,
      "outputs": [
        {
          "output_type": "stream",
          "name": "stdout",
          "text": [
            "shibuya\n",
            "109\n",
            "shibuya\n"
          ]
        }
      ]
    },
    {
      "cell_type": "markdown",
      "source": [
        "# 確認問題\n",
        "変数 name に 'Tokyo' が代入されている。\n",
        "この変数を print関数を使って表示するプログラムを，次の①～④のうちから一つ選びなさい。\n"
      ],
      "metadata": {
        "id": "fXpRbalgRO0T"
      }
    },
    {
      "cell_type": "code",
      "source": [
        "name = 'Tokyo'"
      ],
      "metadata": {
        "id": "VuzCaWRYLhX_"
      },
      "execution_count": null,
      "outputs": []
    },
    {
      "cell_type": "markdown",
      "source": [
        "① `print(Tokyo)`\n",
        "\n",
        "② `print('Tokyo')`\n",
        "\n",
        "③ `print(name)`\n",
        "\n",
        "④ `print('name')`"
      ],
      "metadata": {
        "id": "-qZ0hQAOLkK3"
      }
    },
    {
      "cell_type": "markdown",
      "source": [
        "# 確認問題　解答"
      ],
      "metadata": {
        "id": "CO4kDQ-MLm7Y"
      }
    },
    {
      "cell_type": "markdown",
      "source": [
        "正解：③\n",
        "\n",
        "解説：\n",
        "\n",
        "print関数は，( )内に変数を入れることで，その変数の値を表示することができる。"
      ],
      "metadata": {
        "id": "fxgg0WuRLqqK"
      }
    },
    {
      "cell_type": "code",
      "source": [
        "name = 'Tokyo'\n",
        "print(name)"
      ],
      "metadata": {
        "id": "EOFQvUwrRuwh",
        "colab": {
          "base_uri": "https://localhost:8080/"
        },
        "outputId": "fe5a5892-08f1-418e-9e8e-141a36173bb0"
      },
      "execution_count": null,
      "outputs": [
        {
          "output_type": "stream",
          "name": "stdout",
          "text": [
            "Tokyo\n"
          ]
        }
      ]
    }
  ]
}