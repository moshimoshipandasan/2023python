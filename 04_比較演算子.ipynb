{
  "nbformat": 4,
  "nbformat_minor": 0,
  "metadata": {
    "colab": {
      "provenance": [],
      "include_colab_link": true
    },
    "kernelspec": {
      "name": "python3",
      "display_name": "Python 3"
    },
    "language_info": {
      "name": "python"
    }
  },
  "cells": [
    {
      "cell_type": "markdown",
      "metadata": {
        "id": "view-in-github",
        "colab_type": "text"
      },
      "source": [
        "<a href=\"https://colab.research.google.com/github/moshimoshipandasan/2023python/blob/main/04_%E6%AF%94%E8%BC%83%E6%BC%94%E7%AE%97%E5%AD%90.ipynb\" target=\"_parent\"><img src=\"https://colab.research.google.com/assets/colab-badge.svg\" alt=\"Open In Colab\"/></a>"
      ]
    },
    {
      "cell_type": "markdown",
      "source": [
        "# 初級編　第4講　比較演算子"
      ],
      "metadata": {
        "id": "ZkARKGUWsiqi"
      }
    },
    {
      "cell_type": "markdown",
      "source": [
        "# 要点整理"
      ],
      "metadata": {
        "id": "Enq35opDsof1"
      }
    },
    {
      "cell_type": "markdown",
      "source": [
        "## 比較演算子\n",
        "\n",
        "a=5，b=3のとき\n",
        "\n",
        "| 演算子 | 説明                 | 例       | 結果  |\n",
        "|--------|----------------------|----------|-------|\n",
        "| `>`    | より大きい           | `a > b`  | True  |\n",
        "| `<`    | より小さい           | `a < b`  | False |\n",
        "| `==`   | 等しい               | `a == b` | False |\n",
        "| `!=`   | 等しくない           | `a != b` | True  |\n",
        "| `>=`   | 以上                 | `a >= b` | True  |\n",
        "| `<=`   | 以下                 | `a <= b` | False |\n"
      ],
      "metadata": {
        "id": "XCKFDE7Hh0rr"
      }
    },
    {
      "cell_type": "code",
      "source": [
        "# 整数型の比較\n",
        "a = 5\n",
        "b = 3\n",
        "\n",
        "print(a > b)  # True\n",
        "print(a < b)  # False\n",
        "print(a == b) # False\n",
        "print(a != b) # True\n",
        "print(a >= b) # True\n",
        "print(a <= b) # False"
      ],
      "metadata": {
        "id": "iQO7GB8BzuaE",
        "colab": {
          "base_uri": "https://localhost:8080/"
        },
        "outputId": "bc3e8455-4b0a-4295-c17e-31220b7b461f"
      },
      "execution_count": null,
      "outputs": [
        {
          "output_type": "stream",
          "name": "stdout",
          "text": [
            "True\n",
            "False\n",
            "False\n",
            "True\n",
            "True\n",
            "False\n"
          ]
        }
      ]
    },
    {
      "cell_type": "markdown",
      "source": [
        "# 確認問題\n",
        "a = 7，b = 2のとき，`a != b`の結果として最も適切なものを，次の①～④のうちから一つ選びなさい。\n",
        "\n",
        "\n",
        "① True　　② False　　③ 5　　④ 3"
      ],
      "metadata": {
        "id": "fXpRbalgRO0T"
      }
    },
    {
      "cell_type": "markdown",
      "source": [
        "# 確認問題　解答"
      ],
      "metadata": {
        "id": "CBbium79s3K3"
      }
    },
    {
      "cell_type": "markdown",
      "source": [
        "正解：①\n",
        "\n",
        "解説："
      ],
      "metadata": {
        "id": "qcllefAO0YBB"
      }
    },
    {
      "cell_type": "code",
      "source": [
        "a = 7\n",
        "b = 2\n",
        "\n",
        "a != b"
      ],
      "metadata": {
        "id": "0isk34uNa9Jm",
        "colab": {
          "base_uri": "https://localhost:8080/"
        },
        "outputId": "324e4620-0793-4f74-84a0-00a7094c9894"
      },
      "execution_count": null,
      "outputs": [
        {
          "output_type": "execute_result",
          "data": {
            "text/plain": [
              "True"
            ]
          },
          "metadata": {},
          "execution_count": 1
        }
      ]
    }
  ]
}